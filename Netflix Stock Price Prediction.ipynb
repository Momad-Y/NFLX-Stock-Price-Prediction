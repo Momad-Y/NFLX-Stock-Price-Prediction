{
 "cells": [
  {
   "cell_type": "markdown",
   "metadata": {},
   "source": [
    "# Netflix Stock Price Prediction ML Project\n",
    "\n",
    "#### Mohamed Youssef - 211001821\n"
   ]
  },
  {
   "cell_type": "markdown",
   "metadata": {},
   "source": [
    "## Index"
   ]
  },
  {
   "cell_type": "markdown",
   "metadata": {},
   "source": [
    "* [Including Necessary Libraries](#libs)\n",
    "<br>\n",
    "* [Data Preprocessing & Cleaning](#dataset)\n",
    "<br>\n",
    "* [Data Visualization](#vis)\n",
    "<br>\n",
    "* [Random Forest Model](#m1)\n",
    "<br>\n",
    "* [Polynomial Regression Model](#m2)\n",
    "<br>\n",
    "* [Ada Boost Model](#m3)\n",
    "<br>\n",
    "* [Model Comparison](#compare)\n"
   ]
  },
  {
   "cell_type": "markdown",
   "metadata": {},
   "source": [
    "## Including Necessary Libraries <a id='libs'></a>\n"
   ]
  },
  {
   "cell_type": "code",
   "execution_count": 27,
   "metadata": {},
   "outputs": [],
   "source": [
    "# Python built-in libraries\n",
    "import datetime as dt\n",
    "import time\n",
    "import warnings\n",
    "\n",
    "# Libraries for preprocessing and visualizing the data\n",
    "import pandas as pd\n",
    "import numpy as np\n",
    "import matplotlib.pyplot as plt\n",
    "from sklearn.model_selection import train_test_split\n",
    "\n",
    "# ML models evaluation metrics\n",
    "from sklearn import metrics\n",
    "\n",
    "# Sklearn ML models classes\n",
    "from sklearn.ensemble import RandomForestRegressor\n",
    "from sklearn.model_selection import RandomizedSearchCV\n",
    "from sklearn.preprocessing import PolynomialFeatures\n",
    "from sklearn.linear_model import ElasticNet\n",
    "from sklearn.ensemble import AdaBoostRegressor"
   ]
  },
  {
   "cell_type": "code",
   "execution_count": 28,
   "metadata": {},
   "outputs": [],
   "source": [
    "# Disabling warnings\n",
    "def warn(*args, **kwargs):\n",
    "    pass\n",
    "\n",
    "\n",
    "warnings.warn = warn"
   ]
  },
  {
   "cell_type": "markdown",
   "metadata": {},
   "source": [
    "## Data Preprocessing & Cleaning <a id='dataset'></a>\n"
   ]
  },
  {
   "cell_type": "markdown",
   "metadata": {},
   "source": [
    "### Data Gathering"
   ]
  },
  {
   "cell_type": "code",
   "execution_count": 29,
   "metadata": {},
   "outputs": [
    {
     "data": {
      "text/html": [
       "<div>\n",
       "<style scoped>\n",
       "    .dataframe tbody tr th:only-of-type {\n",
       "        vertical-align: middle;\n",
       "    }\n",
       "\n",
       "    .dataframe tbody tr th {\n",
       "        vertical-align: top;\n",
       "    }\n",
       "\n",
       "    .dataframe thead th {\n",
       "        text-align: right;\n",
       "    }\n",
       "</style>\n",
       "<table border=\"1\" class=\"dataframe\">\n",
       "  <thead>\n",
       "    <tr style=\"text-align: right;\">\n",
       "      <th></th>\n",
       "      <th>Date</th>\n",
       "      <th>Open</th>\n",
       "      <th>High</th>\n",
       "      <th>Low</th>\n",
       "      <th>Close</th>\n",
       "      <th>Adj Close</th>\n",
       "      <th>Volume</th>\n",
       "    </tr>\n",
       "  </thead>\n",
       "  <tbody>\n",
       "    <tr>\n",
       "      <th>1159</th>\n",
       "      <td>2022-08-10</td>\n",
       "      <td>236.990005</td>\n",
       "      <td>244.539993</td>\n",
       "      <td>236.600006</td>\n",
       "      <td>244.110001</td>\n",
       "      <td>244.110001</td>\n",
       "      <td>9254800</td>\n",
       "    </tr>\n",
       "    <tr>\n",
       "      <th>893</th>\n",
       "      <td>2021-07-21</td>\n",
       "      <td>526.130005</td>\n",
       "      <td>530.989990</td>\n",
       "      <td>505.609985</td>\n",
       "      <td>513.630005</td>\n",
       "      <td>513.630005</td>\n",
       "      <td>11906800</td>\n",
       "    </tr>\n",
       "    <tr>\n",
       "      <th>1058</th>\n",
       "      <td>2022-03-16</td>\n",
       "      <td>348.200012</td>\n",
       "      <td>359.989990</td>\n",
       "      <td>343.059998</td>\n",
       "      <td>357.529999</td>\n",
       "      <td>357.529999</td>\n",
       "      <td>6982500</td>\n",
       "    </tr>\n",
       "    <tr>\n",
       "      <th>631</th>\n",
       "      <td>2020-07-07</td>\n",
       "      <td>497.309998</td>\n",
       "      <td>504.820007</td>\n",
       "      <td>490.829987</td>\n",
       "      <td>493.160004</td>\n",
       "      <td>493.160004</td>\n",
       "      <td>5669900</td>\n",
       "    </tr>\n",
       "    <tr>\n",
       "      <th>891</th>\n",
       "      <td>2021-07-19</td>\n",
       "      <td>526.049988</td>\n",
       "      <td>534.909973</td>\n",
       "      <td>522.239990</td>\n",
       "      <td>532.280029</td>\n",
       "      <td>532.280029</td>\n",
       "      <td>3885800</td>\n",
       "    </tr>\n",
       "    <tr>\n",
       "      <th>386</th>\n",
       "      <td>2019-07-17</td>\n",
       "      <td>366.250000</td>\n",
       "      <td>366.500000</td>\n",
       "      <td>361.750000</td>\n",
       "      <td>362.440002</td>\n",
       "      <td>362.440002</td>\n",
       "      <td>13639500</td>\n",
       "    </tr>\n",
       "    <tr>\n",
       "      <th>640</th>\n",
       "      <td>2020-07-20</td>\n",
       "      <td>489.140015</td>\n",
       "      <td>504.500000</td>\n",
       "      <td>484.200012</td>\n",
       "      <td>502.410004</td>\n",
       "      <td>502.410004</td>\n",
       "      <td>11940300</td>\n",
       "    </tr>\n",
       "    <tr>\n",
       "      <th>1</th>\n",
       "      <td>2018-01-03</td>\n",
       "      <td>202.050003</td>\n",
       "      <td>206.210007</td>\n",
       "      <td>201.500000</td>\n",
       "      <td>205.050003</td>\n",
       "      <td>205.050003</td>\n",
       "      <td>8591400</td>\n",
       "    </tr>\n",
       "    <tr>\n",
       "      <th>58</th>\n",
       "      <td>2018-03-27</td>\n",
       "      <td>322.489990</td>\n",
       "      <td>322.899994</td>\n",
       "      <td>297.000000</td>\n",
       "      <td>300.690002</td>\n",
       "      <td>300.690002</td>\n",
       "      <td>12068600</td>\n",
       "    </tr>\n",
       "    <tr>\n",
       "      <th>843</th>\n",
       "      <td>2021-05-10</td>\n",
       "      <td>502.000000</td>\n",
       "      <td>503.149994</td>\n",
       "      <td>486.109985</td>\n",
       "      <td>486.690002</td>\n",
       "      <td>486.690002</td>\n",
       "      <td>5131600</td>\n",
       "    </tr>\n",
       "  </tbody>\n",
       "</table>\n",
       "</div>"
      ],
      "text/plain": [
       "            Date        Open        High         Low       Close   Adj Close  \\\n",
       "1159  2022-08-10  236.990005  244.539993  236.600006  244.110001  244.110001   \n",
       "893   2021-07-21  526.130005  530.989990  505.609985  513.630005  513.630005   \n",
       "1058  2022-03-16  348.200012  359.989990  343.059998  357.529999  357.529999   \n",
       "631   2020-07-07  497.309998  504.820007  490.829987  493.160004  493.160004   \n",
       "891   2021-07-19  526.049988  534.909973  522.239990  532.280029  532.280029   \n",
       "386   2019-07-17  366.250000  366.500000  361.750000  362.440002  362.440002   \n",
       "640   2020-07-20  489.140015  504.500000  484.200012  502.410004  502.410004   \n",
       "1     2018-01-03  202.050003  206.210007  201.500000  205.050003  205.050003   \n",
       "58    2018-03-27  322.489990  322.899994  297.000000  300.690002  300.690002   \n",
       "843   2021-05-10  502.000000  503.149994  486.109985  486.690002  486.690002   \n",
       "\n",
       "        Volume  \n",
       "1159   9254800  \n",
       "893   11906800  \n",
       "1058   6982500  \n",
       "631    5669900  \n",
       "891    3885800  \n",
       "386   13639500  \n",
       "640   11940300  \n",
       "1      8591400  \n",
       "58    12068600  \n",
       "843    5131600  "
      ]
     },
     "execution_count": 29,
     "metadata": {},
     "output_type": "execute_result"
    }
   ],
   "source": [
    "# Importing the dataset csv file\n",
    "NFLX_df = pd.read_csv(\"./NFLX.csv\")\n",
    "\n",
    "NFLX_df.sample(10)  # Showing 10 random records"
   ]
  },
  {
   "cell_type": "markdown",
   "metadata": {},
   "source": [
    "### Statistical Analysis"
   ]
  },
  {
   "cell_type": "code",
   "execution_count": 30,
   "metadata": {},
   "outputs": [
    {
     "data": {
      "text/html": [
       "<div>\n",
       "<style scoped>\n",
       "    .dataframe tbody tr th:only-of-type {\n",
       "        vertical-align: middle;\n",
       "    }\n",
       "\n",
       "    .dataframe tbody tr th {\n",
       "        vertical-align: top;\n",
       "    }\n",
       "\n",
       "    .dataframe thead th {\n",
       "        text-align: right;\n",
       "    }\n",
       "</style>\n",
       "<table border=\"1\" class=\"dataframe\">\n",
       "  <thead>\n",
       "    <tr style=\"text-align: right;\">\n",
       "      <th></th>\n",
       "      <th>Open</th>\n",
       "      <th>High</th>\n",
       "      <th>Low</th>\n",
       "      <th>Close</th>\n",
       "      <th>Adj Close</th>\n",
       "      <th>Volume</th>\n",
       "    </tr>\n",
       "  </thead>\n",
       "  <tbody>\n",
       "    <tr>\n",
       "      <th>count</th>\n",
       "      <td>1259.000000</td>\n",
       "      <td>1259.000000</td>\n",
       "      <td>1259.000000</td>\n",
       "      <td>1259.000000</td>\n",
       "      <td>1259.000000</td>\n",
       "      <td>1.259000e+03</td>\n",
       "    </tr>\n",
       "    <tr>\n",
       "      <th>mean</th>\n",
       "      <td>387.752923</td>\n",
       "      <td>393.907275</td>\n",
       "      <td>381.288920</td>\n",
       "      <td>387.752430</td>\n",
       "      <td>387.752430</td>\n",
       "      <td>8.204729e+06</td>\n",
       "    </tr>\n",
       "    <tr>\n",
       "      <th>std</th>\n",
       "      <td>119.680365</td>\n",
       "      <td>120.384675</td>\n",
       "      <td>118.574058</td>\n",
       "      <td>119.378060</td>\n",
       "      <td>119.378060</td>\n",
       "      <td>6.860656e+06</td>\n",
       "    </tr>\n",
       "    <tr>\n",
       "      <th>min</th>\n",
       "      <td>163.960007</td>\n",
       "      <td>172.059998</td>\n",
       "      <td>162.710007</td>\n",
       "      <td>166.369995</td>\n",
       "      <td>166.369995</td>\n",
       "      <td>1.144000e+06</td>\n",
       "    </tr>\n",
       "    <tr>\n",
       "      <th>25%</th>\n",
       "      <td>298.714996</td>\n",
       "      <td>303.549988</td>\n",
       "      <td>292.399994</td>\n",
       "      <td>298.550003</td>\n",
       "      <td>298.550003</td>\n",
       "      <td>4.400600e+06</td>\n",
       "    </tr>\n",
       "    <tr>\n",
       "      <th>50%</th>\n",
       "      <td>361.959991</td>\n",
       "      <td>367.329987</td>\n",
       "      <td>356.619995</td>\n",
       "      <td>361.809998</td>\n",
       "      <td>361.809998</td>\n",
       "      <td>6.525600e+06</td>\n",
       "    </tr>\n",
       "    <tr>\n",
       "      <th>75%</th>\n",
       "      <td>495.000000</td>\n",
       "      <td>502.895004</td>\n",
       "      <td>487.770005</td>\n",
       "      <td>494.455002</td>\n",
       "      <td>494.455002</td>\n",
       "      <td>9.915100e+06</td>\n",
       "    </tr>\n",
       "    <tr>\n",
       "      <th>max</th>\n",
       "      <td>692.349976</td>\n",
       "      <td>700.989990</td>\n",
       "      <td>686.090027</td>\n",
       "      <td>691.690002</td>\n",
       "      <td>691.690002</td>\n",
       "      <td>1.333875e+08</td>\n",
       "    </tr>\n",
       "  </tbody>\n",
       "</table>\n",
       "</div>"
      ],
      "text/plain": [
       "              Open         High          Low        Close    Adj Close  \\\n",
       "count  1259.000000  1259.000000  1259.000000  1259.000000  1259.000000   \n",
       "mean    387.752923   393.907275   381.288920   387.752430   387.752430   \n",
       "std     119.680365   120.384675   118.574058   119.378060   119.378060   \n",
       "min     163.960007   172.059998   162.710007   166.369995   166.369995   \n",
       "25%     298.714996   303.549988   292.399994   298.550003   298.550003   \n",
       "50%     361.959991   367.329987   356.619995   361.809998   361.809998   \n",
       "75%     495.000000   502.895004   487.770005   494.455002   494.455002   \n",
       "max     692.349976   700.989990   686.090027   691.690002   691.690002   \n",
       "\n",
       "             Volume  \n",
       "count  1.259000e+03  \n",
       "mean   8.204729e+06  \n",
       "std    6.860656e+06  \n",
       "min    1.144000e+06  \n",
       "25%    4.400600e+06  \n",
       "50%    6.525600e+06  \n",
       "75%    9.915100e+06  \n",
       "max    1.333875e+08  "
      ]
     },
     "execution_count": 30,
     "metadata": {},
     "output_type": "execute_result"
    }
   ],
   "source": [
    "# Generating descriptive statistics\n",
    "NFLX_df.describe()"
   ]
  },
  {
   "cell_type": "code",
   "execution_count": 31,
   "metadata": {},
   "outputs": [
    {
     "name": "stdout",
     "output_type": "stream",
     "text": [
      "<class 'pandas.core.frame.DataFrame'>\n",
      "RangeIndex: 1259 entries, 0 to 1258\n",
      "Data columns (total 7 columns):\n",
      " #   Column     Non-Null Count  Dtype  \n",
      "---  ------     --------------  -----  \n",
      " 0   Date       1259 non-null   object \n",
      " 1   Open       1259 non-null   float64\n",
      " 2   High       1259 non-null   float64\n",
      " 3   Low        1259 non-null   float64\n",
      " 4   Close      1259 non-null   float64\n",
      " 5   Adj Close  1259 non-null   float64\n",
      " 6   Volume     1259 non-null   int64  \n",
      "dtypes: float64(5), int64(1), object(1)\n",
      "memory usage: 69.0+ KB\n"
     ]
    }
   ],
   "source": [
    "# Checking for missing values\n",
    "NFLX_df.info()"
   ]
  },
  {
   "cell_type": "markdown",
   "metadata": {},
   "source": [
    "### Data Cleaning"
   ]
  },
  {
   "cell_type": "code",
   "execution_count": 32,
   "metadata": {},
   "outputs": [],
   "source": [
    "# Setting the data feature as the index\n",
    "NFLX_df.set_index(\"Date\", inplace=True, drop=False)"
   ]
  },
  {
   "cell_type": "code",
   "execution_count": 33,
   "metadata": {},
   "outputs": [],
   "source": [
    "# Converting the Date column to datetime format and then to Unix timestamp\n",
    "NFLX_df[\"Date\"] = pd.to_datetime(NFLX_df[\"Date\"])\n",
    "NFLX_df[\"Date\"] = (NFLX_df[\"Date\"] - pd.Timestamp(\"1970-01-01\")) / pd.Timedelta(days=1)"
   ]
  },
  {
   "cell_type": "code",
   "execution_count": 34,
   "metadata": {},
   "outputs": [
    {
     "name": "stdout",
     "output_type": "stream",
     "text": [
      "Number of records where the 'Close' column values is equal to the 'Adj Close' column values 1259\n",
      "Number of total records 1259\n"
     ]
    }
   ],
   "source": [
    "print(\n",
    "    \"Number of records where the 'Close' column values is equal to the 'Adj Close' column values\",\n",
    "    NFLX_df[NFLX_df[\"Close\"] == NFLX_df[\"Adj Close\"]].shape[0],\n",
    ")\n",
    "print(\"Number of total records\", NFLX_df.shape[0])"
   ]
  },
  {
   "cell_type": "code",
   "execution_count": 35,
   "metadata": {},
   "outputs": [],
   "source": [
    "# Since the 'Close' column values is always equal to the 'Adj Close' column values we will drop the 'Adj Close' column\n",
    "NFLX_df.__delitem__(\"Adj Close\")"
   ]
  },
  {
   "cell_type": "code",
   "execution_count": 36,
   "metadata": {},
   "outputs": [],
   "source": [
    "# Also the 'Volume' column won't be needed since it doesn't describe the NFLX stock it describes the market\n",
    "NFLX_df.__delitem__(\"Volume\")"
   ]
  },
  {
   "cell_type": "code",
   "execution_count": 37,
   "metadata": {},
   "outputs": [
    {
     "name": "stdout",
     "output_type": "stream",
     "text": [
      "Number of columns after dropping the 'Adj Close' and 'Volume' columns 5\n"
     ]
    }
   ],
   "source": [
    "print(\n",
    "    \"Number of columns after dropping the 'Adj Close' and 'Volume' columns\",\n",
    "    NFLX_df.shape[1],\n",
    ")"
   ]
  },
  {
   "cell_type": "code",
   "execution_count": 38,
   "metadata": {},
   "outputs": [
    {
     "name": "stdout",
     "output_type": "stream",
     "text": [
      "<class 'pandas.core.frame.DataFrame'>\n",
      "Index: 1259 entries, 2018-01-02 to 2022-12-30\n",
      "Data columns (total 5 columns):\n",
      " #   Column  Non-Null Count  Dtype  \n",
      "---  ------  --------------  -----  \n",
      " 0   Date    1259 non-null   float64\n",
      " 1   Open    1259 non-null   float64\n",
      " 2   High    1259 non-null   float64\n",
      " 3   Low     1259 non-null   float64\n",
      " 4   Close   1259 non-null   float64\n",
      "dtypes: float64(5)\n",
      "memory usage: 91.3+ KB\n"
     ]
    }
   ],
   "source": [
    "# Checking the data types of the columns\n",
    "NFLX_df.info()"
   ]
  },
  {
   "cell_type": "code",
   "execution_count": 39,
   "metadata": {},
   "outputs": [
    {
     "data": {
      "text/html": [
       "<div>\n",
       "<style scoped>\n",
       "    .dataframe tbody tr th:only-of-type {\n",
       "        vertical-align: middle;\n",
       "    }\n",
       "\n",
       "    .dataframe tbody tr th {\n",
       "        vertical-align: top;\n",
       "    }\n",
       "\n",
       "    .dataframe thead th {\n",
       "        text-align: right;\n",
       "    }\n",
       "</style>\n",
       "<table border=\"1\" class=\"dataframe\">\n",
       "  <thead>\n",
       "    <tr style=\"text-align: right;\">\n",
       "      <th></th>\n",
       "      <th>Date</th>\n",
       "      <th>Open</th>\n",
       "      <th>High</th>\n",
       "      <th>Low</th>\n",
       "      <th>Close</th>\n",
       "    </tr>\n",
       "  </thead>\n",
       "  <tbody>\n",
       "    <tr>\n",
       "      <th>count</th>\n",
       "      <td>1259.000000</td>\n",
       "      <td>1259.000000</td>\n",
       "      <td>1259.000000</td>\n",
       "      <td>1259.000000</td>\n",
       "      <td>1259.000000</td>\n",
       "    </tr>\n",
       "    <tr>\n",
       "      <th>mean</th>\n",
       "      <td>18445.139793</td>\n",
       "      <td>387.752923</td>\n",
       "      <td>393.907275</td>\n",
       "      <td>381.288920</td>\n",
       "      <td>387.752430</td>\n",
       "    </tr>\n",
       "    <tr>\n",
       "      <th>std</th>\n",
       "      <td>527.238321</td>\n",
       "      <td>119.680365</td>\n",
       "      <td>120.384675</td>\n",
       "      <td>118.574058</td>\n",
       "      <td>119.378060</td>\n",
       "    </tr>\n",
       "    <tr>\n",
       "      <th>min</th>\n",
       "      <td>17533.000000</td>\n",
       "      <td>163.960007</td>\n",
       "      <td>172.059998</td>\n",
       "      <td>162.710007</td>\n",
       "      <td>166.369995</td>\n",
       "    </tr>\n",
       "    <tr>\n",
       "      <th>25%</th>\n",
       "      <td>17989.500000</td>\n",
       "      <td>298.714996</td>\n",
       "      <td>303.549988</td>\n",
       "      <td>292.399994</td>\n",
       "      <td>298.550003</td>\n",
       "    </tr>\n",
       "    <tr>\n",
       "      <th>50%</th>\n",
       "      <td>18445.000000</td>\n",
       "      <td>361.959991</td>\n",
       "      <td>367.329987</td>\n",
       "      <td>356.619995</td>\n",
       "      <td>361.809998</td>\n",
       "    </tr>\n",
       "    <tr>\n",
       "      <th>75%</th>\n",
       "      <td>18900.500000</td>\n",
       "      <td>495.000000</td>\n",
       "      <td>502.895004</td>\n",
       "      <td>487.770005</td>\n",
       "      <td>494.455002</td>\n",
       "    </tr>\n",
       "    <tr>\n",
       "      <th>max</th>\n",
       "      <td>19356.000000</td>\n",
       "      <td>692.349976</td>\n",
       "      <td>700.989990</td>\n",
       "      <td>686.090027</td>\n",
       "      <td>691.690002</td>\n",
       "    </tr>\n",
       "  </tbody>\n",
       "</table>\n",
       "</div>"
      ],
      "text/plain": [
       "               Date         Open         High          Low        Close\n",
       "count   1259.000000  1259.000000  1259.000000  1259.000000  1259.000000\n",
       "mean   18445.139793   387.752923   393.907275   381.288920   387.752430\n",
       "std      527.238321   119.680365   120.384675   118.574058   119.378060\n",
       "min    17533.000000   163.960007   172.059998   162.710007   166.369995\n",
       "25%    17989.500000   298.714996   303.549988   292.399994   298.550003\n",
       "50%    18445.000000   361.959991   367.329987   356.619995   361.809998\n",
       "75%    18900.500000   495.000000   502.895004   487.770005   494.455002\n",
       "max    19356.000000   692.349976   700.989990   686.090027   691.690002"
      ]
     },
     "execution_count": 39,
     "metadata": {},
     "output_type": "execute_result"
    }
   ],
   "source": [
    "# Generating descriptive statistics\n",
    "NFLX_df.describe()"
   ]
  },
  {
   "cell_type": "code",
   "execution_count": 40,
   "metadata": {},
   "outputs": [
    {
     "data": {
      "text/html": [
       "<div>\n",
       "<style scoped>\n",
       "    .dataframe tbody tr th:only-of-type {\n",
       "        vertical-align: middle;\n",
       "    }\n",
       "\n",
       "    .dataframe tbody tr th {\n",
       "        vertical-align: top;\n",
       "    }\n",
       "\n",
       "    .dataframe thead th {\n",
       "        text-align: right;\n",
       "    }\n",
       "</style>\n",
       "<table border=\"1\" class=\"dataframe\">\n",
       "  <thead>\n",
       "    <tr style=\"text-align: right;\">\n",
       "      <th></th>\n",
       "      <th>Date</th>\n",
       "      <th>Open</th>\n",
       "      <th>High</th>\n",
       "      <th>Low</th>\n",
       "      <th>Close</th>\n",
       "    </tr>\n",
       "    <tr>\n",
       "      <th>Date</th>\n",
       "      <th></th>\n",
       "      <th></th>\n",
       "      <th></th>\n",
       "      <th></th>\n",
       "      <th></th>\n",
       "    </tr>\n",
       "  </thead>\n",
       "  <tbody>\n",
       "    <tr>\n",
       "      <th>2018-12-21</th>\n",
       "      <td>17886.0</td>\n",
       "      <td>263.829987</td>\n",
       "      <td>264.500000</td>\n",
       "      <td>241.289993</td>\n",
       "      <td>246.389999</td>\n",
       "    </tr>\n",
       "    <tr>\n",
       "      <th>2020-12-18</th>\n",
       "      <td>18614.0</td>\n",
       "      <td>533.200012</td>\n",
       "      <td>536.369995</td>\n",
       "      <td>526.020020</td>\n",
       "      <td>534.450012</td>\n",
       "    </tr>\n",
       "    <tr>\n",
       "      <th>2018-09-06</th>\n",
       "      <td>17780.0</td>\n",
       "      <td>347.440002</td>\n",
       "      <td>356.000000</td>\n",
       "      <td>341.989990</td>\n",
       "      <td>346.459991</td>\n",
       "    </tr>\n",
       "    <tr>\n",
       "      <th>2021-08-24</th>\n",
       "      <td>18863.0</td>\n",
       "      <td>551.479980</td>\n",
       "      <td>555.309998</td>\n",
       "      <td>549.270020</td>\n",
       "      <td>553.409973</td>\n",
       "    </tr>\n",
       "    <tr>\n",
       "      <th>2020-02-25</th>\n",
       "      <td>18317.0</td>\n",
       "      <td>372.000000</td>\n",
       "      <td>375.649994</td>\n",
       "      <td>357.720001</td>\n",
       "      <td>360.089996</td>\n",
       "    </tr>\n",
       "  </tbody>\n",
       "</table>\n",
       "</div>"
      ],
      "text/plain": [
       "               Date        Open        High         Low       Close\n",
       "Date                                                               \n",
       "2018-12-21  17886.0  263.829987  264.500000  241.289993  246.389999\n",
       "2020-12-18  18614.0  533.200012  536.369995  526.020020  534.450012\n",
       "2018-09-06  17780.0  347.440002  356.000000  341.989990  346.459991\n",
       "2021-08-24  18863.0  551.479980  555.309998  549.270020  553.409973\n",
       "2020-02-25  18317.0  372.000000  375.649994  357.720001  360.089996"
      ]
     },
     "execution_count": 40,
     "metadata": {},
     "output_type": "execute_result"
    }
   ],
   "source": [
    "# Showing 5 random records\n",
    "NFLX_df.sample(5)"
   ]
  },
  {
   "cell_type": "code",
   "execution_count": 41,
   "metadata": {},
   "outputs": [],
   "source": [
    "# Splitting the data into features and target variable\n",
    "X = NFLX_df[[\"Open\", \"High\", \"Low\"]]\n",
    "y = NFLX_df[[\"Close\"]]"
   ]
  },
  {
   "cell_type": "code",
   "execution_count": 42,
   "metadata": {},
   "outputs": [],
   "source": [
    "# Splitting the data into training and testing sets (80% training and 20% testing)\n",
    "X_train, X_test, y_train, y_test = train_test_split(\n",
    "    X.values, y.values, test_size=0.2, random_state=1\n",
    ")"
   ]
  },
  {
   "cell_type": "code",
   "execution_count": 43,
   "metadata": {},
   "outputs": [
    {
     "name": "stdout",
     "output_type": "stream",
     "text": [
      "X_train shape (1007, 3)\n",
      "X_test shape (252, 3)\n",
      "y_train shape (1007, 1)\n",
      "y_test shape (252, 1)\n"
     ]
    }
   ],
   "source": [
    "# Showing the shape of the training and testing sets\n",
    "print(\"X_train shape\", X_train.shape)\n",
    "print(\"X_test shape\", X_test.shape)\n",
    "print(\"y_train shape\", y_train.shape)\n",
    "print(\"y_test shape\", y_test.shape)"
   ]
  },
  {
   "cell_type": "markdown",
   "metadata": {},
   "source": [
    "## Data Visualization <a id='vis'></a>"
   ]
  },
  {
   "cell_type": "code",
   "execution_count": 59,
   "metadata": {},
   "outputs": [
    {
     "data": {
      "image/png": "[encoded data removed]",
      "text/plain": [
       "<Figure size 1400x500 with 1 Axes>"
      ]
     },
     "metadata": {},
     "output_type": "display_data"
    }
   ],
   "source": [
    "# Visualizing the datasets closing prices frequency\n",
    "plt.figure(figsize=(14, 5))\n",
    "plt.hist(NFLX_df[\"Close\"], color=\"dodgerblue\")\n",
    "plt.xlabel(\"Close Prices in USD\", weight=\"bold\")\n",
    "plt.ylabel(\"Frequency\", weight=\"bold\")\n",
    "plt.title(\"Close Prices Frequency\", weight=\"bold\")\n",
    "plt.xticks(np.arange(150, 700, 50))\n",
    "plt.yticks(np.arange(0, 350, 50))\n",
    "plt.grid(axis=\"y\", linestyle=\"--\", color=\"black\", linewidth=1.8)\n",
    "\n",
    "# Draw a line dividing each bar\n",
    "for bin_edge in np.histogram(NFLX_df[\"Close\"])[1]:\n",
    "    plt.axvline(bin_edge, color=\"black\", linestyle=\"--\", linewidth=1.8)\n",
    "\n",
    "plt.show()"
   ]
  },
  {
   "cell_type": "code",
   "execution_count": null,
   "metadata": {},
   "outputs": [],
   "source": []
  }
 ],
 "metadata": {
  "kernelspec": {
   "display_name": ".venv",
   "language": "python",
   "name": "python3"
  },
  "language_info": {
   "codemirror_mode": {
    "name": "ipython",
    "version": 3
   },
   "file_extension": ".py",
   "mimetype": "text/x-python",
   "name": "python",
   "nbconvert_exporter": "python",
   "pygments_lexer": "ipython3",
   "version": "3.11.3"
  }
 },
 "nbformat": 4,
 "nbformat_minor": 2
}
