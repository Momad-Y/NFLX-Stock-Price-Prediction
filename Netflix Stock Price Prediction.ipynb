{
 "cells": [
  {
   "cell_type": "markdown",
   "metadata": {},
   "source": [
    "# Netflix Stock Price Prediction ML Project\n",
    "\n",
    "#### Mohamed Youssef - 211001821\n"
   ]
  },
  {
   "cell_type": "markdown",
   "metadata": {},
   "source": [
    "## Index"
   ]
  },
  {
   "cell_type": "markdown",
   "metadata": {},
   "source": [
    "* [Including Necessary Libraries](#libs)\n",
    "<br>\n",
    "* [Data Preprocessing & Cleaning](#dataset)\n",
    "<br>\n",
    "* [Data Visualization](#vis)\n",
    "<br>\n",
    "* [Random Forest Model](#m1)\n",
    "<br>\n",
    "* [Polynomial Regression Model](#m2)\n",
    "<br>\n",
    "* [Ada Boost Model](#m3)\n",
    "<br>\n",
    "* [Model Comparison](#compare)\n"
   ]
  },
  {
   "cell_type": "markdown",
   "metadata": {},
   "source": [
    "## Including Necessary Libraries <a id='libs'></a>\n"
   ]
  },
  {
   "cell_type": "code",
   "execution_count": 1,
   "metadata": {},
   "outputs": [],
   "source": [
    "# Python built-in libraries\n",
    "import datetime as dt\n",
    "import time\n",
    "import warnings\n",
    "\n",
    "# Libraries for preprocessing and visualizing the data\n",
    "import pandas as pd\n",
    "import numpy as np\n",
    "import matplotlib.pyplot as plt\n",
    "from sklearn.model_selection import train_test_split\n",
    "\n",
    "# ML models evaluation metrics\n",
    "from sklearn import metrics\n",
    "\n",
    "# Sklearn ML models classes\n",
    "from sklearn.ensemble import RandomForestRegressor\n",
    "from sklearn.model_selection import RandomizedSearchCV\n",
    "from sklearn.preprocessing import PolynomialFeatures\n",
    "from sklearn.linear_model import ElasticNet\n",
    "from sklearn.ensemble import AdaBoostRegressor"
   ]
  },
  {
   "cell_type": "code",
   "execution_count": null,
   "metadata": {},
   "outputs": [],
   "source": []
  }
 ],
 "metadata": {
  "kernelspec": {
   "display_name": ".venv",
   "language": "python",
   "name": "python3"
  },
  "language_info": {
   "codemirror_mode": {
    "name": "ipython",
    "version": 3
   },
   "file_extension": ".py",
   "mimetype": "text/x-python",
   "name": "python",
   "nbconvert_exporter": "python",
   "pygments_lexer": "ipython3",
   "version": "3.11.3"
  }
 },
 "nbformat": 4,
 "nbformat_minor": 2
}
